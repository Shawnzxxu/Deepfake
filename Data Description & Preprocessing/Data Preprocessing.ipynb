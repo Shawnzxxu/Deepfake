{
 "cells": [
  {
   "cell_type": "markdown",
   "metadata": {
    "id": "Gyq3OD0N7a0P"
   },
   "source": [
    "# Data Cleaning"
   ]
  },
  {
   "cell_type": "code",
   "execution_count": null,
   "metadata": {
    "colab": {
     "base_uri": "https://localhost:8080/"
    },
    "id": "93zu0HQZ6v5X",
    "outputId": "b1ba68e3-7994-4edd-f059-07df668e5ebc"
   },
   "outputs": [
    {
     "name": "stderr",
     "output_type": "stream",
     "text": [
      "[nltk_data] Downloading package stopwords to /root/nltk_data...\n",
      "[nltk_data]   Unzipping corpora/stopwords.zip.\n",
      "[nltk_data] Downloading package punkt to /root/nltk_data...\n",
      "[nltk_data]   Unzipping tokenizers/punkt.zip.\n",
      "[nltk_data] Downloading package wordnet to /root/nltk_data...\n"
     ]
    },
    {
     "name": "stdout",
     "output_type": "stream",
     "text": [
      "Sample size after preprocessing: 17720\n"
     ]
    }
   ],
   "source": [
    "import json\n",
    "import re\n",
    "import nltk\n",
    "from nltk.corpus import stopwords\n",
    "from nltk.tokenize import word_tokenize\n",
    "from nltk.stem import WordNetLemmatizer\n",
    "from spellchecker import SpellChecker\n",
    "\n",
    "nltk.download('stopwords')\n",
    "nltk.download('punkt')\n",
    "nltk.download('wordnet')\n",
    "\n",
    "lemmatizer = WordNetLemmatizer()\n",
    "spell = SpellChecker()\n",
    "\n",
    "def clean_text(text):\n",
    "    if not text:\n",
    "        return ''\n",
    "    text = re.sub(r'http\\S+', '', text)\n",
    "    text = re.sub(r'\\W+', ' ', text)\n",
    "    return text\n",
    "\n",
    "def preprocess_text(text):\n",
    "    if not text:\n",
    "        return ''\n",
    "    text = text.lower()\n",
    "    text = re.sub(r'\\d+', '', text)\n",
    "    text = re.sub(r'[^\\w\\s]', '', text)\n",
    "    return text\n",
    "\n",
    "def tokenize_text(text):\n",
    "    if not text:\n",
    "        return []\n",
    "    return text.split()\n",
    "\n",
    "def remove_stopwords(words_list):\n",
    "    if not words_list:\n",
    "        return []\n",
    "    stop_words = set(stopwords.words('english'))\n",
    "    return [word for word in words_list if word.lower() not in stop_words]\n",
    "\n",
    "def remove_short_words(words_list):\n",
    "    if not words_list:\n",
    "        return []\n",
    "    return [word for word in words_list if len(word) > 1]\n",
    "\n",
    "def lemmatize_words(words_list):\n",
    "    if not words_list:\n",
    "        return []\n",
    "    lemmatized_words = [lemmatizer.lemmatize(word) for word in words_list if word]\n",
    "    return lemmatized_words\n",
    "\n",
    "def process_samples(input_file, output_file):\n",
    "    with open(input_file, 'r') as file:\n",
    "        samples = json.load(file)\n",
    "\n",
    "    processed_samples = []\n",
    "    unique_samples = set()\n",
    "\n",
    "    for sample in samples:\n",
    "        body_text = sample.get('body', '')\n",
    "        body_text = clean_text(body_text)\n",
    "        body_text = preprocess_text(body_text)\n",
    "        words_list = tokenize_text(body_text)\n",
    "        words_list = remove_stopwords(words_list)\n",
    "        words_list = lemmatize_words(words_list)\n",
    "        words_list = remove_short_words(words_list)\n",
    "        words_list = [word for word in words_list if word is not None]\n",
    "        processed_text = ' '.join(words_list)\n",
    "\n",
    "        if not processed_text.strip():\n",
    "            continue\n",
    "\n",
    "        if processed_text in unique_samples:\n",
    "            continue\n",
    "\n",
    "        unique_samples.add(processed_text)\n",
    "        sample['body'] = processed_text\n",
    "        processed_samples.append(sample)\n",
    "\n",
    "    with open(output_file, 'w') as file:\n",
    "        json.dump(processed_samples, file, indent=4)\n",
    "\n",
    "    print(f\"Sample size after preprocessing: {len(processed_samples)}\")\n",
    "\n",
    "input_file_path = '/content/drive/My Drive/deepfake/Deepfake_orignal.json'\n",
    "output_file_path = '/content/drive/My Drive/deepfake/Processed_deepfake.json'\n",
    "\n",
    "process_samples(input_file_path, output_file_path)"
   ]
  }
 ],
 "metadata": {
  "colab": {
   "provenance": []
  },
  "kernelspec": {
   "display_name": "Python 3 (ipykernel)",
   "language": "python",
   "name": "python3"
  },
  "language_info": {
   "codemirror_mode": {
    "name": "ipython",
    "version": 3
   },
   "file_extension": ".py",
   "mimetype": "text/x-python",
   "name": "python",
   "nbconvert_exporter": "python",
   "pygments_lexer": "ipython3",
   "version": "3.11.4"
  }
 },
 "nbformat": 4,
 "nbformat_minor": 1
}
